{
 "cells": [
  {
   "cell_type": "code",
   "execution_count": 1,
   "id": "069d46af",
   "metadata": {},
   "outputs": [],
   "source": [
    "import sqlite3\n",
    "import os\n",
    "connection = sqlite3.connect(':memory:')"
   ]
  },
  {
   "cell_type": "code",
   "execution_count": 15,
   "id": "a67a6665",
   "metadata": {},
   "outputs": [
    {
     "name": "stdout",
     "output_type": "stream",
     "text": [
      "We will show paths to up to 20\n",
      "You have chosen 10 paths\n",
      "File found: ./reportScript.ipynb\n",
      "File found: ./ReportScript.py\n",
      "File found: ./README.md\n",
      "File found: ./.git/HEAD\n",
      "File found: ./.git/packed-refs\n",
      "File found: ./.git/AUTO_MERGE\n",
      "File found: ./.git/index\n",
      "File found: ./.git/FETCH_HEAD\n",
      "File found: ./.git/ORIG_HEAD\n",
      "File found: ./.git/COMMIT_EDITMSG\n",
      "File found: ./.git/config\n",
      "File found: ./.git/description\n"
     ]
    }
   ],
   "source": [
    "print(\"We will show paths to up to 20\")\n",
    "limit = input(\"Select number of paths: \")\n",
    "print(f\"You have chosen {limit} paths\")\n",
    "limit = int(limit)\n",
    "count = 0\n",
    "for root, directories, files in os.walk('.'):\n",
    "    for _file in files:\n",
    "        full_path = os.path.join(root, _file)\n",
    "        print(f\"File found: {full_path}\")\n",
    "        count += 1\n",
    "    if count >= limit:\n",
    "        break"
   ]
  },
  {
   "cell_type": "code",
   "execution_count": 19,
   "id": "2eea5e91",
   "metadata": {},
   "outputs": [
    {
     "name": "stdout",
     "output_type": "stream",
     "text": [
      "Size: 3201b - File: ./reportScript.ipynb\n",
      "Size: 0b - File: ./ReportScript.py\n",
      "Size: 204b - File: ./README.md\n",
      "Size: 21b - File: ./.git/HEAD\n",
      "Size: 112b - File: ./.git/packed-refs\n",
      "Size: 41b - File: ./.git/AUTO_MERGE\n",
      "Size: 118b - File: ./.git/index\n",
      "Size: 308b - File: ./.git/FETCH_HEAD\n",
      "Size: 41b - File: ./.git/ORIG_HEAD\n",
      "Size: 45b - File: ./.git/COMMIT_EDITMSG\n",
      "Size: 356b - File: ./.git/config\n",
      "Size: 73b - File: ./.git/description\n"
     ]
    }
   ],
   "source": [
    "count = 0\n",
    "for root, directories, files in os.walk('.'):\n",
    "    for _file in files:\n",
    "        full_path = os.path.join(root, _file)\n",
    "        size = os.path.getsize(full_path)\n",
    "        print(f\"Size: {size}b - File: {full_path}\")\n",
    "        count += 1\n",
    "    if count >= limit:\n",
    "        break"
   ]
  }
 ],
 "metadata": {
  "kernelspec": {
   "display_name": "Python 3",
   "language": "python",
   "name": "python3"
  },
  "language_info": {
   "codemirror_mode": {
    "name": "ipython",
    "version": 3
   },
   "file_extension": ".py",
   "mimetype": "text/x-python",
   "name": "python",
   "nbconvert_exporter": "python",
   "pygments_lexer": "ipython3",
   "version": "3.12.1"
  }
 },
 "nbformat": 4,
 "nbformat_minor": 5
}
